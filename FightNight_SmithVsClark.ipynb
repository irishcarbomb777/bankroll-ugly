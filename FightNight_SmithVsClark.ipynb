{
 "metadata": {
  "language_info": {
   "codemirror_mode": {
    "name": "ipython",
    "version": 3
   },
   "file_extension": ".py",
   "mimetype": "text/x-python",
   "name": "python",
   "nbconvert_exporter": "python",
   "pygments_lexer": "ipython3",
   "version": "3.8.5-final"
  },
  "orig_nbformat": 2,
  "kernelspec": {
   "name": "python3",
   "display_name": "Python 3"
  }
 },
 "nbformat": 4,
 "nbformat_minor": 2,
 "cells": [
  {
   "cell_type": "code",
   "execution_count": null,
   "metadata": {},
   "outputs": [],
   "source": [
    "import pandas as pd\n",
    "import numpy as np\n",
    "import pymongo as mongo\n",
    "import matplotlib.pyplot as plt\n",
    "import glob\n",
    "import ipywidgets as widgets\n",
    "import copy\n",
    "%matplotlib widget"
   ]
  },
  {
   "cell_type": "code",
   "execution_count": 46,
   "metadata": {},
   "outputs": [
    {
     "output_type": "stream",
     "name": "stdout",
     "text": [
      "0.09999999999999987\n"
     ]
    }
   ],
   "source": [
    "# Gina Mazany\n",
    "to_win1 = 50\n",
    "b = to_win1/100\n",
    "p = 0.70\n",
    "def kelly(b, p):\n",
    "    f = ((b*p) - (1-p))/b\n",
    "    return f\n",
    "\n",
    "f1 = kelly(b, p)\n",
    "print(f1)"
   ]
  },
  {
   "cell_type": "code",
   "execution_count": 26,
   "metadata": {},
   "outputs": [
    {
     "output_type": "stream",
     "name": "stdout",
     "text": [
      "0.28956521739130436\n"
     ]
    }
   ],
   "source": [
    "# Devin Clark\n",
    "to_win2 = 115\n",
    "p = .62\n",
    "b = to_win2/100\n",
    "\n",
    "def kelly(b, p):\n",
    "    f = ((b*p) - (1-p))/b\n",
    "    return f\n",
    "\n",
    "f2 = kelly(b, p)\n",
    "print(f2)"
   ]
  },
  {
   "cell_type": "code",
   "execution_count": 27,
   "metadata": {},
   "outputs": [
    {
     "output_type": "stream",
     "name": "stdout",
     "text": [
      "0.14877049907049922\n"
     ]
    }
   ],
   "source": [
    "# Ashlee Evans-Smith\n",
    "to_win3 = 69.93\n",
    "p = .6497\n",
    "b = to_win3/100\n",
    "\n",
    "def kelly(b, p):\n",
    "    f = ((b*p) - (1-p))/b\n",
    "    return f\n",
    "\n",
    "f3 = kelly(b, p)\n",
    "print(f3)"
   ]
  },
  {
   "cell_type": "code",
   "execution_count": 28,
   "metadata": {},
   "outputs": [
    {
     "output_type": "stream",
     "name": "stdout",
     "text": [
      "0.14285714285714282\n"
     ]
    }
   ],
   "source": [
    "# Bill Algeo\n",
    "to_win4 = 140\n",
    "p = .5\n",
    "b = to_win4/100\n",
    "\n",
    "def kelly(b, p):\n",
    "    f = ((b*p) - (1-p))/b\n",
    "    return f\n",
    "\n",
    "f4 = kelly(b, p)\n",
    "print(f4)"
   ]
  },
  {
   "cell_type": "code",
   "execution_count": 50,
   "metadata": {},
   "outputs": [
    {
     "output_type": "stream",
     "name": "stdout",
     "text": [
      "0.6811928593189462\n374.93\nGina Mazany        : $59.014124194125785\nDevin Clark        : $170.8843770142949\nAshlee Evans-Smith : $87.79560708568528\nBill Algeo         : $84.30589170589407\n"
     ]
    }
   ],
   "source": [
    "f_T = f1+f2+f3+f4\n",
    "print(f_T)\n",
    "p_T = to_win1+to_win2+to_win3+to_win4\n",
    "print(p_T)\n",
    "\n",
    "throw = 402\n",
    "print('Gina Mazany        : $' + str((f1/f_T)*throw))\n",
    "print('Devin Clark        : $' + str((f2/f_T)*throw))\n",
    "print('Ashlee Evans-Smith : $' + str((f3/f_T)*throw))\n",
    "print('Bill Algeo         : $' + str((f4/f_T)*throw))\n"
   ]
  }
 ]
}