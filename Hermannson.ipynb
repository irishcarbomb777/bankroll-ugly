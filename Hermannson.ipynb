{
 "metadata": {
  "language_info": {
   "codemirror_mode": {
    "name": "ipython",
    "version": 3
   },
   "file_extension": ".py",
   "mimetype": "text/x-python",
   "name": "python",
   "nbconvert_exporter": "python",
   "pygments_lexer": "ipython3",
   "version": "3.8.5-final"
  },
  "orig_nbformat": 2,
  "kernelspec": {
   "name": "python3",
   "display_name": "Python 3"
  }
 },
 "nbformat": 4,
 "nbformat_minor": 2,
 "cells": [
  {
   "cell_type": "code",
   "execution_count": 3,
   "metadata": {},
   "outputs": [],
   "source": [
    "import pandas as pd\n",
    "import numpy as np\n",
    "import pymongo as mongo\n",
    "import matplotlib.pyplot as plt\n",
    "import glob\n",
    "import ipywidgets as widgets\n",
    "import copy\n",
    "%matplotlib widget"
   ]
  },
  {
   "cell_type": "code",
   "execution_count": 4,
   "metadata": {},
   "outputs": [
    {
     "output_type": "stream",
     "name": "stdout",
     "text": [
      "0.0652173913043478\n"
     ]
    }
   ],
   "source": [
    "# Jack Hermansson\n",
    "to_win1 = 115\n",
    "b = to_win1/100\n",
    "p = 0.5\n",
    "def kelly(b, p):\n",
    "    f = ((b*p) - (1-p))/b\n",
    "    return f\n",
    "\n",
    "f1 = kelly(b, p)\n",
    "print(f1)"
   ]
  },
  {
   "cell_type": "code",
   "execution_count": 5,
   "metadata": {},
   "outputs": [
    {
     "output_type": "stream",
     "name": "stdout",
     "text": [
      "0.1774193548387097\n"
     ]
    }
   ],
   "source": [
    "# Ovince St. Preux\n",
    "to_win2 = 155\n",
    "b = to_win2/100\n",
    "p = 0.5\n",
    "def kelly(b, p):\n",
    "    f = ((b*p) - (1-p))/b\n",
    "    return f\n",
    "\n",
    "f2 = kelly(b, p)\n",
    "print(f2)"
   ]
  },
  {
   "cell_type": "code",
   "execution_count": 6,
   "metadata": {},
   "outputs": [
    {
     "output_type": "stream",
     "name": "stdout",
     "text": [
      "0.1333333333333333\n"
     ]
    }
   ],
   "source": [
    "# Jake Collier\n",
    "to_win6 = 150\n",
    "b = to_win6/100\n",
    "p = 0.48\n",
    "def kelly(b, p):\n",
    "    f = ((b*p) - (1-p))/b\n",
    "    return f\n",
    "\n",
    "f6 = kelly(b, p)\n",
    "print(f6)"
   ]
  },
  {
   "cell_type": "code",
   "execution_count": 7,
   "metadata": {},
   "outputs": [
    {
     "output_type": "stream",
     "name": "stdout",
     "text": [
      "0.2570212765957447\n"
     ]
    }
   ],
   "source": [
    "# Justin Jaynes\n",
    "to_win8 = 188\n",
    "b = to_win8/100\n",
    "p = 0.515\n",
    "def kelly(b, p):\n",
    "    f = ((b*p) - (1-p))/b\n",
    "    return f\n",
    "\n",
    "f8 = kelly(b, p)\n",
    "print(f8)"
   ]
  },
  {
   "cell_type": "code",
   "execution_count": 11,
   "metadata": {},
   "outputs": [
    {
     "output_type": "stream",
     "name": "stdout",
     "text": [
      "0.6329913560721354\n608\nJack Hermansson    : $43.272793672564106\nOvince St. Preux   : $117.7206107436422\nJake Collier       : $88.46882261946442\nJustin Jaynes      : $170.53777296432932\n"
     ]
    }
   ],
   "source": [
    "f_T = f1+f2+f6+f8\n",
    "print(f_T)\n",
    "p_T = to_win1+to_win2+to_win6+to_win8\n",
    "print(p_T)\n",
    "throw = 420\n",
    "\n",
    "print('Jack Hermansson    : $' + str((f1/f_T)*throw))\n",
    "print('Ovince St. Preux   : $' + str((f2/f_T)*throw))\n",
    "print('Jake Collier       : $' + str((f6/f_T)*throw))\n",
    "print('Justin Jaynes      : $' + str((f8/f_T)*throw))"
   ]
  },
  {
   "cell_type": "code",
   "execution_count": null,
   "metadata": {},
   "outputs": [],
   "source": []
  }
 ]
}