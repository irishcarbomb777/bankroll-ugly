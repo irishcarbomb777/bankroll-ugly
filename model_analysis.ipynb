{
 "metadata": {
  "language_info": {
   "codemirror_mode": {
    "name": "ipython",
    "version": 3
   },
   "file_extension": ".py",
   "mimetype": "text/x-python",
   "name": "python",
   "nbconvert_exporter": "python",
   "pygments_lexer": "ipython3",
   "version": "3.8.5-final"
  },
  "orig_nbformat": 2,
  "kernelspec": {
   "name": "python3",
   "display_name": "Python 3.8.5 64-bit",
   "metadata": {
    "interpreter": {
     "hash": "a6723f2a0aea000f5f48dcce023e57a12a6f63023b2c0e6b41f6f7526c000296"
    }
   }
  }
 },
 "nbformat": 4,
 "nbformat_minor": 2,
 "cells": [
  {
   "cell_type": "code",
   "execution_count": 1,
   "metadata": {},
   "outputs": [],
   "source": [
    "import pandas as pd\n",
    "import numpy as np\n",
    "import pymongo as mongo\n",
    "import matplotlib.pyplot as plt\n",
    "import glob\n",
    "import ipywidgets as widgets\n",
    "import copy\n",
    "%matplotlib widget"
   ]
  },
  {
   "cell_type": "code",
   "execution_count": 2,
   "metadata": {},
   "outputs": [],
   "source": [
    "# Accept and clean data\n",
    "file_path = r'/home/brainbox/Create/Code/Bankroll/data'\n",
    "bets_test_files = glob.glob(file_path + \"/f_to_test_waka_*.csv\")\n",
    "\n",
    "li = []\n",
    "for filename in bets_test_files:\n",
    "    df = pd.read_csv(filename, index_col=None, header=0)\n",
    "    li.append(df)\n",
    "\n",
    "preds_data = pd.concat(li, axis=0, ignore_index=True)\n",
    "wins_data  = pd.read_csv(\"./data/allData.csv\")\n",
    "merged_data_1 = pd.merge(preds_data, wins_data, how=\"inner\", left_on=[\"Fighter\", \"Opponent\"], right_on=[\"R_fighter\", \"B_fighter\"])\n",
    "merged_data_dups = copy.deepcopy(merged_data_1)\n",
    "merged_data_1.drop_duplicates(subset=['Fighter', 'Opponent', 'date'], keep='last', inplace=True)\n",
    "\n",
    "doi = merged_data_1.drop(columns=['Unnamed: 0','MoneyLine', 'DecimalOdds', 'Opponent', 'date', 'location', 'country', 'title_bout', 'weight_class', 'gender', 'R_odds', 'B_odds', 'Fighter'])\n",
    "doi['PercentOther'] = doi['PercentOdds'].map(lambda x: 100-x)\n",
    "doi = doi[['R_fighter', 'PercentOdds', 'B_fighter', 'PercentOther', 'Winner']]\n",
    "doi = doi.rename(columns={'PercentOdds':'R_prob', 'PercentOther': 'B_prob'})\n"
   ]
  },
  {
   "source": [
    "# Separate data into Red and Blue\n",
    "bin_by_picks         = doi\n",
    "bin_by_picks['Pick'] = pd.cut(bin_by_picks['R_prob'], [0,50, 100], labels = ['Blue', 'Red'])\n",
    "picks                = bin_by_picks.groupby(['Pick'])\n",
    "\n",
    "# Separate out red picks\n",
    "red_picks            = picks.get_group('Red')\n",
    "red_picks            = red_picks.drop(columns=['Pick'])\n",
    "\n",
    "# Separate out blue picks\n",
    "blue_picks           = picks.get_group('Blue')\n",
    "blue_picks           = blue_picks.drop(columns=['Pick'])"
   ],
   "cell_type": "code",
   "metadata": {},
   "execution_count": 3,
   "outputs": []
  },
  {
   "cell_type": "code",
   "execution_count": 4,
   "metadata": {},
   "outputs": [],
   "source": [
    "# Put data into buckets\n",
    "red_bucket = red_picks\n",
    "# red_bucket  = copy.deepcopy(red_picks)\n",
    "# red_bucket2 = copy.deepcopy(red_picks)\n",
    "# red_bucket['R_prob'] = red_bucket['R_prob'].subtract(5)\n",
    "# red_bucket['R_prob'] = red_bucket['R_prob'].clip(0,100)\n",
    "blue_bucket = blue_picks\n",
    "\n",
    "split       = 5 # Change this value to create bins\n",
    "bins        = list(range(0, 101, split))\n",
    "bin_names   = []\n",
    "for i in range(0, 100, split):\n",
    "    bin_names.append(str(i)+' - '+str(i+split))\n",
    "\n",
    "# Create buckets by pick (red or blue)\n",
    "red_bucket ['prob_bin'] = pd.cut(red_bucket ['R_prob'], bins, labels=bin_names)\n",
    "# red_bucket2['prob_bin'] = pd.cut(red_bucket2['R_prob'], bins, labels=bin_names)\n",
    "blue_bucket['prob_bin'] = pd.cut(blue_bucket['B_prob'], bins, labels=bin_names)"
   ]
  },
  {
   "cell_type": "code",
   "execution_count": 5,
   "metadata": {},
   "outputs": [],
   "source": [
    "# Group picks by probability\n",
    "red_prob_bins  = red_bucket.groupby(red_bucket.prob_bin)\n",
    "blue_prob_bins = blue_bucket.groupby(blue_bucket.prob_bin)"
   ]
  },
  {
   "cell_type": "code",
   "execution_count": 6,
   "metadata": {},
   "outputs": [
    {
     "output_type": "display_data",
     "data": {
      "text/plain": "Canvas(toolbar=Toolbar(toolitems=[('Home', 'Reset original view', 'home', 'home'), ('Back', 'Back to previous …",
      "application/vnd.jupyter.widget-view+json": {
       "version_major": 2,
       "version_minor": 0,
       "model_id": "62431db1c462412385da068aaf768eef"
      }
     },
     "metadata": {}
    },
    {
     "output_type": "display_data",
     "data": {
      "text/plain": "Canvas(toolbar=Toolbar(toolitems=[('Home', 'Reset original view', 'home', 'home'), ('Back', 'Back to previous …",
      "application/vnd.jupyter.widget-view+json": {
       "version_major": 2,
       "version_minor": 0,
       "model_id": "d2a22fb7931d4f3ab1b53cde308fef06"
      }
     },
     "metadata": {}
    },
    {
     "output_type": "execute_result",
     "data": {
      "text/plain": [
       "<StemContainer object of 3 artists>"
      ]
     },
     "metadata": {},
     "execution_count": 6
    }
   ],
   "source": [
    "# Count red bin amounts\n",
    "red_bin_counts    = red_picks['prob_bin'].value_counts(sort=False)\n",
    "plt.figure()\n",
    "plt.stem(bin_names, red_bin_counts)\n",
    "\n",
    "\n",
    "# Count blue bin amounts\n",
    "blue_bin_counts   = blue_picks['prob_bin'].value_counts(sort=False)\n",
    "plt.figure()\n",
    "plt.stem(bin_names, blue_bin_counts)\n",
    "# plt.show(blue_count_fig)\n",
    "\n",
    "\n"
   ]
  },
  {
   "cell_type": "code",
   "execution_count": 7,
   "metadata": {},
   "outputs": [
    {
     "output_type": "display_data",
     "data": {
      "text/plain": "Canvas(toolbar=Toolbar(toolitems=[('Home', 'Reset original view', 'home', 'home'), ('Back', 'Back to previous …",
      "application/vnd.jupyter.widget-view+json": {
       "version_major": 2,
       "version_minor": 0,
       "model_id": "43d711fbb9a44d109e520605c1280e20"
      }
     },
     "metadata": {}
    },
    {
     "output_type": "display_data",
     "data": {
      "text/plain": "Canvas(toolbar=Toolbar(toolitems=[('Home', 'Reset original view', 'home', 'home'), ('Back', 'Back to previous …",
      "application/vnd.jupyter.widget-view+json": {
       "version_major": 2,
       "version_minor": 0,
       "model_id": "7ff4eabb415d4053aa353566ad20223c"
      }
     },
     "metadata": {}
    },
    {
     "output_type": "execute_result",
     "data": {
      "text/plain": [
       "<StemContainer object of 3 artists>"
      ]
     },
     "metadata": {},
     "execution_count": 7
    }
   ],
   "source": [
    "# Slice win/loss by bin\n",
    "\n",
    "# Red\n",
    "red_bin_array = []\n",
    "for bin_name in bin_names:\n",
    "    red_bin_array.append(red_bucket[red_bucket.prob_bin == bin_name])\n",
    "\n",
    "red_wins = []\n",
    "for i in range(len(red_bin_array)):\n",
    "    red_wins.append(red_bin_array[i]['Winner'].value_counts())\n",
    "\n",
    "red_wins = pd.DataFrame(red_wins)\n",
    "red_wins['bin_names'] = bin_names\n",
    "red_wins.fillna(0)\n",
    "\n",
    "red_wins['percent'] = red_wins['Red']/(red_wins['Red']+red_wins['Blue'])\n",
    "\n",
    "plt.figure()\n",
    "plt.stem(bin_names, red_wins['percent'])\n",
    "\n",
    "# Blue\n",
    "blue_bin_array = []\n",
    "for bin_name in bin_names:\n",
    "    blue_bin_array.append(blue_bucket[blue_bucket.prob_bin == bin_name])\n",
    "\n",
    "blue_wins = []\n",
    "for i in range(len(blue_bin_array)):\n",
    "    blue_wins.append(blue_bin_array[i]['Winner'].value_counts())\n",
    "\n",
    "blue_wins = pd.DataFrame(blue_wins)\n",
    "blue_wins['bin_names'] = bin_names\n",
    "blue_wins.fillna(0)\n",
    "\n",
    "blue_wins['percent'] = blue_wins['Blue']/(blue_wins['Blue']+blue_wins['Red'])\n",
    "\n",
    "plt.figure()\n",
    "plt.stem(bin_names, blue_wins['percent'])"
   ]
  },
  {
   "cell_type": "code",
   "execution_count": 8,
   "metadata": {},
   "outputs": [
    {
     "output_type": "display_data",
     "data": {
      "text/plain": "Canvas(toolbar=Toolbar(toolitems=[('Home', 'Reset original view', 'home', 'home'), ('Back', 'Back to previous …",
      "application/vnd.jupyter.widget-view+json": {
       "version_major": 2,
       "version_minor": 0,
       "model_id": "93df00ff1e0f43fa9de6c76d835abc6c"
      }
     },
     "metadata": {}
    },
    {
     "output_type": "execute_result",
     "data": {
      "text/plain": [
       "[<matplotlib.lines.Line2D at 0x7fac7a798df0>]"
      ]
     },
     "metadata": {},
     "execution_count": 8
    }
   ],
   "source": [
    "# Sort red fighter information by probability\n",
    "red_fighters = red_picks\n",
    "red_fighters = red_fighters.drop(columns=['prob_bin']).sort_values(by='R_prob')\n",
    "red_fighters\n",
    "\n",
    "# Create linear averaging kernel h_mu[n]\n",
    "N_kernel     = 261\n",
    "h_mu = np.ones(N_kernel)\n",
    "h_mu = h_mu/N_kernel\n",
    "\n",
    "# Create P_red[n] (sorted probabilities of fighters)\n",
    "P_red = red_fighters['R_prob'].to_numpy()\n",
    "\n",
    "# Convolve P_red[n]*h_mu[n]\n",
    "mu = np.convolve(P_red, h_mu, 'valid') # Note: Actual desired output is P*h_mu[n+(N-1)/2]. This is because we want the average centered like it is on an imaging kernel\n",
    "\n",
    "# Convert red_fighters to binary outcomes\n",
    "red_fighters['Winner'] = np.where(red_fighters['Winner'] == 'Red', 1, 0)\n",
    "\n",
    "# Convolve binary outcomes and find experimental probability\n",
    "win_bin = red_fighters['Winner'].to_numpy()\n",
    "h_sum = np.ones(N_kernel)\n",
    "win_percents = (np.convolve(win_bin, h_sum, 'valid'))/N_kernel\n",
    "\n",
    "\n",
    "# Generate hi-res linear sets\n",
    "x = np.linspace(45,100, 2490)\n",
    "y = np.linspace(.45, 1, 2490)\n",
    "# Plot the outcomes\n",
    "plt.figure()\n",
    "plt.plot(mu, win_percents)\n",
    "plt.plot(x,y)\n",
    "\n",
    "\n",
    "\n",
    "\n",
    "\n"
   ]
  },
  {
   "cell_type": "code",
   "execution_count": 9,
   "metadata": {},
   "outputs": [
    {
     "output_type": "stream",
     "name": "stdout",
     "text": [
      "2490\n"
     ]
    }
   ],
   "source": [
    "# Scratch paper\n",
    "buck1 = len(red_fighters[red_fighters['R_prob']<60])\n",
    "buck2 = len( red_fighters[ (red_fighters['R_prob']>60) & (red_fighters['R_prob']<70) ] )\n",
    "buck3 = len( red_fighters[ (red_fighters['R_prob']>70) & (red_fighters['R_prob']<80) ] )\n",
    "buck4 = len( red_fighters[ (red_fighters['R_prob']>80) & (red_fighters['R_prob']<90) ] )\n",
    "buck5 = len( red_fighters[ (red_fighters['R_prob']>90) & (red_fighters['R_prob']<97) ] )\n",
    "\n",
    "print(len(win_percents))\n",
    "a = np.linspace(50,100,2490)\n",
    "\n",
    "\n"
   ]
  },
  {
   "cell_type": "code",
   "execution_count": null,
   "metadata": {},
   "outputs": [],
   "source": []
  },
  {
   "cell_type": "code",
   "execution_count": null,
   "metadata": {},
   "outputs": [],
   "source": []
  }
 ]
}