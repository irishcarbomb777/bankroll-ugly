{
 "metadata": {
  "language_info": {
   "codemirror_mode": {
    "name": "ipython",
    "version": 3
   },
   "file_extension": ".py",
   "mimetype": "text/x-python",
   "name": "python",
   "nbconvert_exporter": "python",
   "pygments_lexer": "ipython3",
   "version": "3.8.5-final"
  },
  "orig_nbformat": 2,
  "kernelspec": {
   "name": "python3",
   "display_name": "Python 3"
  }
 },
 "nbformat": 4,
 "nbformat_minor": 2,
 "cells": [
  {
   "cell_type": "code",
   "execution_count": 2,
   "metadata": {},
   "outputs": [],
   "source": [
    "import pandas as pd\n",
    "import numpy as np\n",
    "import pymongo as mongo\n",
    "import matplotlib.pyplot as plt\n",
    "import glob\n",
    "import ipywidgets as widgets\n",
    "import copy\n",
    "%matplotlib widget"
   ]
  },
  {
   "cell_type": "code",
   "execution_count": 3,
   "metadata": {},
   "outputs": [
    {
     "output_type": "stream",
     "name": "stdout",
     "text": [
      "0.4199885996579899\n"
     ]
    }
   ],
   "source": [
    "# Paul Craig\n",
    "to_win1 = 52.63\n",
    "b = to_win1/100\n",
    "p = 0.8\n",
    "def kelly(b, p):\n",
    "    f = ((b*p) - (1-p))/b\n",
    "    return f\n",
    "\n",
    "f1 = kelly(b, p)\n",
    "print(f1)\n"
   ]
  },
  {
   "cell_type": "code",
   "execution_count": 4,
   "metadata": {},
   "outputs": [
    {
     "output_type": "stream",
     "name": "stdout",
     "text": [
      "0.14126153846153852\n"
     ]
    }
   ],
   "source": [
    "# Nicolas Dalby\n",
    "to_win2 = 260\n",
    "p = .3798\n",
    "b = to_win2/100\n",
    "\n",
    "def kelly(b, p):\n",
    "    f = ((b*p) - (1-p))/b\n",
    "    return f\n",
    "\n",
    "f2 = kelly(b, p)\n",
    "print(f2)"
   ]
  },
  {
   "cell_type": "code",
   "execution_count": 5,
   "metadata": {},
   "outputs": [
    {
     "output_type": "stream",
     "name": "stdout",
     "text": [
      "0.1\n"
     ]
    }
   ],
   "source": [
    "# Ariane Lipski\n",
    "to_win3 = 125\n",
    "p = .5\n",
    "b = to_win3/100\n",
    "\n",
    "def kelly(b, p):\n",
    "    f = ((b*p) - (1-p))/b\n",
    "    return f\n",
    "\n",
    "f3 = kelly(b, p)\n",
    "print(f3)"
   ]
  },
  {
   "cell_type": "code",
   "execution_count": 6,
   "metadata": {},
   "outputs": [
    {
     "output_type": "stream",
     "name": "stdout",
     "text": [
      "0.34001839926402955\n"
     ]
    }
   ],
   "source": [
    "# Joaquin Buckley\n",
    "to_win4 = 43.48\n",
    "p = .80\n",
    "b = to_win4/100\n",
    "\n",
    "def kelly(b, p):\n",
    "    f = ((b*p) - (1-p))/b\n",
    "    return f\n",
    "\n",
    "f4 = kelly(b, p)\n",
    "print(f4)"
   ]
  },
  {
   "cell_type": "code",
   "execution_count": 7,
   "metadata": {},
   "outputs": [
    {
     "output_type": "stream",
     "name": "stdout",
     "text": [
      "0.4021999999999999\n"
     ]
    }
   ],
   "source": [
    "# Katlyn Chookagian\n",
    "to_win5 = 205\n",
    "p = .5982\n",
    "b = to_win5/100\n",
    "\n",
    "def kelly(b, p):\n",
    "    f = ((b*p) - (1-p))/b\n",
    "    return f\n",
    "\n",
    "f5 = kelly(b, p)\n",
    "print(f5)"
   ]
  },
  {
   "cell_type": "code",
   "execution_count": 8,
   "metadata": {},
   "outputs": [
    {
     "output_type": "stream",
     "name": "stdout",
     "text": [
      "0.08024967801287954\n"
     ]
    }
   ],
   "source": [
    "# Mike Perry\n",
    "to_win6 = 86.96\n",
    "p = .5722\n",
    "b = to_win6/100\n",
    "\n",
    "def kelly(b, p):\n",
    "    f = ((b*p) - (1-p))/b\n",
    "    return f\n",
    "\n",
    "f6 = kelly(b, p)\n",
    "print(f6)"
   ]
  },
  {
   "cell_type": "code",
   "execution_count": 9,
   "metadata": {},
   "outputs": [
    {
     "output_type": "stream",
     "name": "stdout",
     "text": [
      "0.32158947368421054\n"
     ]
    }
   ],
   "source": [
    "# Jennifer Maia\n",
    "to_win7 = 950\n",
    "p = .3862\n",
    "b = to_win7/100\n",
    "\n",
    "def kelly(b, p):\n",
    "    f = ((b*p) - (1-p))/b\n",
    "    return f\n",
    "\n",
    "f7 = kelly(b, p)\n",
    "print(f7)"
   ]
  },
  {
   "cell_type": "code",
   "execution_count": 17,
   "metadata": {},
   "outputs": [
    {
     "output_type": "stream",
     "name": "stdout",
     "text": [
      "-0.03774186046511624\n"
     ]
    }
   ],
   "source": []
  },
  {
   "cell_type": "code",
   "execution_count": 11,
   "metadata": {},
   "outputs": [
    {
     "output_type": "stream",
     "name": "stdout",
     "text": [
      "1.805307689080648\n1723.0700000000002\nPaul Craig        : $348.9615112689202\nNicolas Dalby     : $117.37185244040799\nAriane Lipski     : $83.08832943396338\nJoaquin Buckley   : $282.51560771658575\nKatlyn Chookagian : $334.1812609834006\nMike Perry        : $66.67811683703621\nJennifer Maia     : $267.2033213196858\n"
     ]
    }
   ],
   "source": [
    "f_T = f1+f2+f3+f4+f5+f6+f7\n",
    "print(f_T)\n",
    "p_T = to_win1+to_win2+to_win3+to_win4+to_win5+to_win6+to_win7\n",
    "print(p_T)\n",
    "\n",
    "throw = 1500\n",
    "\n",
    "print('Paul Craig        : $' + str((f1/f_T)*throw))\n",
    "print('Nicolas Dalby     : $' + str((f2/f_T)*throw))\n",
    "print('Ariane Lipski     : $' + str((f3/f_T)*throw))\n",
    "print('Joaquin Buckley   : $' + str((f4/f_T)*throw))\n",
    "print('Katlyn Chookagian : $' + str((f5/f_T)*throw))\n",
    "print('Mike Perry        : $' + str((f6/f_T)*throw))\n",
    "print('Jennifer Maia     : $' + str((f7/f_T)*throw))"
   ]
  }
 ]
}